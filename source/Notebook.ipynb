{
 "cells": [
  {
   "cell_type": "code",
   "execution_count": 12,
   "metadata": {},
   "outputs": [],
   "source": [
    "from sklearn.tree import DecisionTreeRegressor\n",
    "from sklearn.linear_model import RidgeCV\n",
    "from sklearn.svm import SVR\n",
    "from sklearn.preprocessing import MinMaxScaler, StandardScaler\n",
    "from sklearn.pipeline import Pipeline\n",
    "from sklearn.model_selection import GridSearchCV, KFold\n",
    "from sklearn.metrics import (accuracy_score, f1_score, precision_score,\n",
    "                             recall_score)\n",
    "from sklearn.impute import SimpleImputer\n",
    "from sklearn.feature_selection import SelectKBest, VarianceThreshold\n",
    "from sklearn.ensemble import RandomForestRegressor, StackingRegressor\n",
    "from sklearn.decomposition import PCA\n",
    "from sklearn.compose import TransformedTargetRegressor\n",
    "from custom_transfomers.date_window import TimeWindowTransformer\n",
    "from sklearn.dummy import DummyRegressor\n",
    "from project_utils.data_manipulation import generate_aggregation\n",
    "from sklearn.metrics import make_scorer\n",
    "import pandas\n",
    "from data_base.connection import session\n",
    "from data_base.models import models\n",
    "from sqlalchemy import select\n",
    "from IPython import get_ipython"
   ]
  },
  {
   "source": [
    "## Construção do dataframe utilizando buscas no banco de dados sql\n",
    "%load_ext autoreload\n",
    "%autoreload 2"
   ],
   "cell_type": "code",
   "metadata": {},
   "execution_count": 2,
   "outputs": []
  },
  {
   "source": [
    "query = select(\n",
    "    models.Variables.date,\n",
    "    models.Variables.precipitation.label('precipitation'),\n",
    "    models.Variables.temperature.label('temperature'),\n",
    "    models.Variables.evaporation.label('evaporation'),\n",
    "    models.Variables.surface_runoff.label('surface_runoff'),\n",
    "    models.Coordinate.river_id.label('river'),    \n",
    "    models.Reservoir.level,\n",
    "    models.Reservoir.streamflow\n",
    ").\\\n",
    "    join(models.Variables.coordinate).\\\n",
    "    join(models.Reservoir, models.Variables.date == models.Reservoir.date)\n",
    "\n",
    "RawDataFrame = pandas.read_sql(query, session.bind)\n",
    "\n",
    "\n"
   ],
   "cell_type": "code",
   "metadata": {},
   "execution_count": 3,
   "outputs": []
  },
  {
   "source": [
    "# DataFrame consolidado porém com os atributos para cada rio posicionados em uma diferente coluna\n",
    "ConsolidatedDataFrame = (\n",
    "    RawDataFrame.\n",
    "    groupby(['date', 'river', 'level', 'streamflow']).\n",
    "    agg({\n",
    "        'precipitation': 'sum',\n",
    "        'evaporation': 'sum',\n",
    "        'temperature': 'mean',\n",
    "        'surface_runoff':'mean',\n",
    "    }).\n",
    "    reset_index().\n",
    "    pivot(index=[\"date\", 'level', 'streamflow'], columns=\"river\")\n",
    ")\n",
    "\n",
    "ConsolidatedDataFrame.insert(0,'previous_streamflow', pandas.DataFrame(ConsolidatedDataFrame.index.get_level_values('streamflow')).shift(1).values)\n",
    "ConsolidatedDataFrame.insert(0,'previous_level', pandas.DataFrame(ConsolidatedDataFrame.index.get_level_values('level')).shift(1).values)\n",
    "\n",
    "ConsolidatedDataFrame = ConsolidatedDataFrame.dropna()\n"
   ],
   "cell_type": "code",
   "metadata": {},
   "execution_count": 4,
   "outputs": []
  },
  {
   "cell_type": "code",
   "execution_count": 5,
   "metadata": {},
   "outputs": [],
   "source": [
    "seed = 0\n",
    "scorer = make_scorer(accuracy_score)\n",
    "\n",
    "rivers = session.query(models.River).all()\n",
    "\n",
    "precipitation_agg = generate_aggregation('sum', 'precipitation', [river.id for river in rivers])\n",
    "evaporation_agg = generate_aggregation('sum', 'evaporation', [river.id for river in rivers])\n",
    "temperature_agg = generate_aggregation('mean', 'temperature', [river.id for river in rivers])\n",
    "runoff_agg = generate_aggregation('mean', 'surface_runoff', [river.id for river in rivers])\n",
    "\n",
    "cols = ['precipitation', 'evaporation', 'temperature', 'surface_runoff']\n",
    "\n",
    "agg = precipitation_agg\n",
    "agg.update(evaporation_agg)\n",
    "agg.update(temperature_agg)\n",
    "agg.update(runoff_agg)\n"
   ]
  },
  {
   "cell_type": "code",
   "execution_count": 19,
   "metadata": {},
   "outputs": [
    {
     "output_type": "execute_result",
     "data": {
      "text/plain": [
       "{'cv': None,\n",
       " 'estimators': [('RandomForest', RandomForestRegressor()), ('SVC', SVR())],\n",
       " 'final_estimator': ('Ridge', RidgeCV(alphas=array([ 0.1,  1. , 10. ]))),\n",
       " 'n_jobs': None,\n",
       " 'passthrough': False,\n",
       " 'verbose': 0,\n",
       " 'RandomForest': RandomForestRegressor(),\n",
       " 'SVC': SVR(),\n",
       " 'RandomForest__bootstrap': True,\n",
       " 'RandomForest__ccp_alpha': 0.0,\n",
       " 'RandomForest__criterion': 'mse',\n",
       " 'RandomForest__max_depth': None,\n",
       " 'RandomForest__max_features': 'auto',\n",
       " 'RandomForest__max_leaf_nodes': None,\n",
       " 'RandomForest__max_samples': None,\n",
       " 'RandomForest__min_impurity_decrease': 0.0,\n",
       " 'RandomForest__min_impurity_split': None,\n",
       " 'RandomForest__min_samples_leaf': 1,\n",
       " 'RandomForest__min_samples_split': 2,\n",
       " 'RandomForest__min_weight_fraction_leaf': 0.0,\n",
       " 'RandomForest__n_estimators': 100,\n",
       " 'RandomForest__n_jobs': None,\n",
       " 'RandomForest__oob_score': False,\n",
       " 'RandomForest__random_state': None,\n",
       " 'RandomForest__verbose': 0,\n",
       " 'RandomForest__warm_start': False,\n",
       " 'SVC__C': 1.0,\n",
       " 'SVC__cache_size': 200,\n",
       " 'SVC__coef0': 0.0,\n",
       " 'SVC__degree': 3,\n",
       " 'SVC__epsilon': 0.1,\n",
       " 'SVC__gamma': 'scale',\n",
       " 'SVC__kernel': 'rbf',\n",
       " 'SVC__max_iter': -1,\n",
       " 'SVC__shrinking': True,\n",
       " 'SVC__tol': 0.001,\n",
       " 'SVC__verbose': False}"
      ]
     },
     "metadata": {},
     "execution_count": 19
    }
   ],
   "source": [
    "StackingRegressor(estimators=[('RandomForest', RandomForestRegressor()), ('SVR', SVR())], final_estimator=('Ridge', RidgeCV())).get_params()"
   ]
  },
  {
   "cell_type": "code",
   "execution_count": 22,
   "metadata": {},
   "outputs": [],
   "source": [
    "clf_search = GridSearchCV(\n",
    "            Pipeline([\n",
    "                ('windowing', TimeWindowTransformer(columns=cols)),\n",
    "                ('imputer', SimpleImputer(strategy='mean')),\n",
    "                ('scaler', MinMaxScaler(feature_range=(0, 1))),\n",
    "                ('clf', DummyRegressor())\n",
    "            ]), \n",
    "            param_grid=[\n",
    "                {\n",
    "                    'windowing__aggregate': [agg],\n",
    "                    'windowing__rolling': range(1, 32, 10),\n",
    "                    'windowing__dropna': [False],\n",
    "                    'clf': (\n",
    "                        TransformedTargetRegressor(\n",
    "                        transformer=MinMaxScaler(feature_range=(0, 1)), \n",
    "                        regressor=SVR(cache_size=1000)\n",
    "                    ),),\n",
    "                    'clf__regressor__C': range(1, 15, 3),\n",
    "                    'clf__regressor__gamma': ['auto', 'scale'],\n",
    "                    'clf__regressor__kernel': ['rbf']\n",
    "                },\n",
    "                {\n",
    "                    'windowing__aggregate': [agg],\n",
    "                    'windowing__rolling': range(1, 32, 10),\n",
    "                    'windowing__dropna': [False],\n",
    "                    'clf': (RandomForestRegressor(), ),\n",
    "                    'clf__random_state': [seed],\n",
    "                    'clf__n_estimators': [200]\n",
    "                },\n",
    "                {\n",
    "                    'windowing__aggregate': [agg],\n",
    "                    'windowing__rolling': range(1, 32, 10),\n",
    "                    'windowing__dropna': [False],\n",
    "                    'clf': (DecisionTreeRegressor(), ),\n",
    "                    'clf__random_state': [seed]\n",
    "                },\n",
    "                {\n",
    "                    'windowing__aggregate': [agg],\n",
    "                    'windowing__rolling': range(1, 32, 10),\n",
    "                    'windowing__dropna': [False],\n",
    "                    'clf': (StackingRegressor(\n",
    "                        estimators=[('RandomForest', RandomForestRegressor()), ('SVR', SVR())], \n",
    "                        final_estimator=RidgeCV()\n",
    "                    ),),\n",
    "                    'clf__RandomForest__random_state': [seed]\n",
    "                }\n",
    "            ],\n",
    "            scoring='neg_root_mean_squared_error',\n",
    "            cv=10,\n",
    "            n_jobs=-1,\n",
    "            verbose=10,\n",
    "            error_score='raise'\n",
    "        )"
   ]
  },
  {
   "cell_type": "code",
   "execution_count": 23,
   "metadata": {},
   "outputs": [
    {
     "output_type": "stream",
     "name": "stdout",
     "text": [
      "Fitting 10 folds for each of 6 candidates, totalling 60 fits\n",
      "Fitting 10 folds for each of 6 candidates, totalling 60 fits\n"
     ]
    },
    {
     "output_type": "execute_result",
     "data": {
      "text/plain": [
       "       level     p_level  streamflow  p_streamflow\n",
       "0     560.28  560.214981     1128.00   1272.337750\n",
       "1     560.35  560.292758     1021.00   1000.722692\n",
       "2     560.47  560.375647     1307.00   1172.341818\n",
       "3     560.62  560.485660     1481.00   1434.546704\n",
       "4     560.78  560.674334     1555.00   1567.032489\n",
       "...      ...         ...         ...           ...\n",
       "2502  568.51  568.537682     1068.11   1079.529270\n",
       "2503  568.44  568.501531     1027.44   1011.371752\n",
       "2504  568.40  568.422610      902.97    981.796578\n",
       "2505  568.38  568.346431     1106.56   1053.074736\n",
       "2506  568.35  568.376170      881.33    971.378267\n",
       "\n",
       "[2507 rows x 4 columns]"
      ],
      "text/html": "<div>\n<style scoped>\n    .dataframe tbody tr th:only-of-type {\n        vertical-align: middle;\n    }\n\n    .dataframe tbody tr th {\n        vertical-align: top;\n    }\n\n    .dataframe thead th {\n        text-align: right;\n    }\n</style>\n<table border=\"1\" class=\"dataframe\">\n  <thead>\n    <tr style=\"text-align: right;\">\n      <th></th>\n      <th>level</th>\n      <th>p_level</th>\n      <th>streamflow</th>\n      <th>p_streamflow</th>\n    </tr>\n  </thead>\n  <tbody>\n    <tr>\n      <th>0</th>\n      <td>560.28</td>\n      <td>560.214981</td>\n      <td>1128.00</td>\n      <td>1272.337750</td>\n    </tr>\n    <tr>\n      <th>1</th>\n      <td>560.35</td>\n      <td>560.292758</td>\n      <td>1021.00</td>\n      <td>1000.722692</td>\n    </tr>\n    <tr>\n      <th>2</th>\n      <td>560.47</td>\n      <td>560.375647</td>\n      <td>1307.00</td>\n      <td>1172.341818</td>\n    </tr>\n    <tr>\n      <th>3</th>\n      <td>560.62</td>\n      <td>560.485660</td>\n      <td>1481.00</td>\n      <td>1434.546704</td>\n    </tr>\n    <tr>\n      <th>4</th>\n      <td>560.78</td>\n      <td>560.674334</td>\n      <td>1555.00</td>\n      <td>1567.032489</td>\n    </tr>\n    <tr>\n      <th>...</th>\n      <td>...</td>\n      <td>...</td>\n      <td>...</td>\n      <td>...</td>\n    </tr>\n    <tr>\n      <th>2502</th>\n      <td>568.51</td>\n      <td>568.537682</td>\n      <td>1068.11</td>\n      <td>1079.529270</td>\n    </tr>\n    <tr>\n      <th>2503</th>\n      <td>568.44</td>\n      <td>568.501531</td>\n      <td>1027.44</td>\n      <td>1011.371752</td>\n    </tr>\n    <tr>\n      <th>2504</th>\n      <td>568.40</td>\n      <td>568.422610</td>\n      <td>902.97</td>\n      <td>981.796578</td>\n    </tr>\n    <tr>\n      <th>2505</th>\n      <td>568.38</td>\n      <td>568.346431</td>\n      <td>1106.56</td>\n      <td>1053.074736</td>\n    </tr>\n    <tr>\n      <th>2506</th>\n      <td>568.35</td>\n      <td>568.376170</td>\n      <td>881.33</td>\n      <td>971.378267</td>\n    </tr>\n  </tbody>\n</table>\n<p>2507 rows × 4 columns</p>\n</div>"
     },
     "metadata": {},
     "execution_count": 23
    }
   ],
   "source": [
    "classifier = clf_search\n",
    "\n",
    "df = pandas.DataFrame()\n",
    "df['level'] = ConsolidatedDataFrame.index.get_level_values('level')\n",
    "classifier.fit(ConsolidatedDataFrame, ConsolidatedDataFrame.index.get_level_values('level'))\n",
    "df['p_level'] = classifier.predict(ConsolidatedDataFrame)\n",
    "classifier.fit(ConsolidatedDataFrame, ConsolidatedDataFrame.index.get_level_values('streamflow')) \n",
    "df['streamflow'] = ConsolidatedDataFrame.index.get_level_values('streamflow')\n",
    "df['p_streamflow'] = classifier.predict(ConsolidatedDataFrame)\n",
    "df\n"
   ]
  },
  {
   "cell_type": "code",
   "execution_count": null,
   "metadata": {},
   "outputs": [],
   "source": []
  }
 ],
 "metadata": {
  "kernelspec": {
   "name": "python3",
   "display_name": "Python 3.9.5  ('.env': venv)"
  },
  "language_info": {
   "codemirror_mode": {
    "name": "ipython",
    "version": 3
   },
   "file_extension": ".py",
   "mimetype": "text/x-python",
   "name": "python",
   "nbconvert_exporter": "python",
   "pygments_lexer": "ipython3",
   "version": "3.9.5"
  },
  "interpreter": {
   "hash": "e01c415138263b81e74f4b8560efc462ff3e43faa8a63c42675b82c8ccb72528"
  }
 },
 "nbformat": 4,
 "nbformat_minor": 4
}