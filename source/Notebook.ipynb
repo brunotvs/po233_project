{
 "cells": [
  {
   "cell_type": "code",
   "execution_count": 24,
   "metadata": {},
   "outputs": [],
   "source": [
    "import pandas\n",
    "from IPython import get_ipython\n",
    "from sklearn.compose import TransformedTargetRegressor\n",
    "from sklearn.decomposition import PCA\n",
    "from sklearn.dummy import DummyRegressor\n",
    "from sklearn.ensemble import RandomForestRegressor, StackingRegressor\n",
    "from sklearn.feature_selection import SelectKBest, VarianceThreshold\n",
    "from sklearn.impute import SimpleImputer\n",
    "from sklearn.linear_model import Ridge\n",
    "from sklearn.metrics import (accuracy_score, f1_score, make_scorer,\n",
    "                             precision_score, recall_score)\n",
    "from sklearn.model_selection import (GridSearchCV, KFold, cross_val_score,\n",
    "                                     train_test_split)\n",
    "from sklearn.pipeline import Pipeline\n",
    "from sklearn.preprocessing import MinMaxScaler, StandardScaler\n",
    "from sklearn.svm import SVR\n",
    "from sklearn.tree import DecisionTreeRegressor\n",
    "from sqlalchemy import select\n",
    "\n",
    "from custom_transfomers.date_window import TimeWindowTransformer, Debug\n",
    "from data_base.connection import session\n",
    "from data_base.models import models\n",
    "from project_utils.data_manipulation import generate_aggregation"
   ]
  },
  {
   "source": [
    "## Construção do dataframe utilizando buscas no banco de dados sql\n",
    "%load_ext autoreload\n",
    "%autoreload 2"
   ],
   "cell_type": "code",
   "metadata": {},
   "execution_count": 8,
   "outputs": [
    {
     "output_type": "stream",
     "name": "stdout",
     "text": [
      "The autoreload extension is already loaded. To reload it, use:\n  %reload_ext autoreload\n"
     ]
    }
   ]
  },
  {
   "source": [
    "query = select(\n",
    "    models.Variables.date,\n",
    "    models.Variables.precipitation.label('precipitation'),\n",
    "    models.Variables.temperature.label('temperature'),\n",
    "    models.Variables.evaporation.label('evaporation'),\n",
    "    models.Variables.surface_runoff.label('surface_runoff'),\n",
    "    models.Coordinate.river_id.label('river'),    \n",
    "    models.Reservoir.level,\n",
    "    models.Reservoir.streamflow\n",
    ").\\\n",
    "    join(models.Variables.coordinate).\\\n",
    "    join(models.Reservoir, models.Variables.date == models.Reservoir.date)\n",
    "\n",
    "RawDataFrame = pandas.read_sql(query, session.bind)\n",
    "\n",
    "\n"
   ],
   "cell_type": "code",
   "metadata": {},
   "execution_count": 9,
   "outputs": []
  },
  {
   "source": [
    "# DataFrame consolidado porém com os atributos para cada rio posicionados em uma diferente coluna\n",
    "ConsolidatedDataFrame = (\n",
    "    RawDataFrame.\n",
    "    groupby(['date', 'level', 'river', 'streamflow']).\n",
    "    agg({\n",
    "        'precipitation': 'sum',\n",
    "        'evaporation': 'sum',\n",
    "        'temperature': 'mean',\n",
    "        'surface_runoff':'mean',\n",
    "    }).\n",
    "    reset_index().\n",
    "    pivot(index=[\"date\", 'level', 'streamflow'], columns=\"river\")\n",
    ")\n",
    "\n",
    "ConsolidatedDataFrame.insert(0,'previous_streamflow', pandas.DataFrame(ConsolidatedDataFrame.index.get_level_values('streamflow')).shift(1).values)\n",
    "ConsolidatedDataFrame.insert(0,'previous_level', pandas.DataFrame(ConsolidatedDataFrame.index.get_level_values('level')).shift(1).values)\n",
    "\n",
    "ConsolidatedDataFrame = ConsolidatedDataFrame.dropna()\n",
    "\n",
    "\n"
   ],
   "cell_type": "code",
   "metadata": {},
   "execution_count": 10,
   "outputs": []
  },
  {
   "cell_type": "code",
   "execution_count": 11,
   "metadata": {},
   "outputs": [],
   "source": [
    "seed = 0\n",
    "scorer = make_scorer(accuracy_score)\n",
    "\n",
    "rivers = session.query(models.River).all()\n",
    "\n",
    "precipitation_agg = generate_aggregation('sum', 'precipitation', [river.id for river in rivers])\n",
    "evaporation_agg = generate_aggregation('sum', 'evaporation', [river.id for river in rivers])\n",
    "temperature_agg = generate_aggregation('mean', 'temperature', [river.id for river in rivers])\n",
    "runoff_agg = generate_aggregation('mean', 'surface_runoff', [river.id for river in rivers])\n",
    "\n",
    "cols = ['precipitation', 'evaporation', 'temperature', 'surface_runoff']\n",
    "\n",
    "agg = precipitation_agg\n",
    "agg.update(evaporation_agg)\n",
    "agg.update(temperature_agg)\n",
    "agg.update(runoff_agg)\n"
   ]
  },
  {
   "cell_type": "code",
   "execution_count": 30,
   "metadata": {},
   "outputs": [],
   "source": [
    "cv = KFold(n_splits=10, shuffle=False)\n",
    "\n",
    "grid_search_params = dict(\n",
    "    estimator=Pipeline(\n",
    "        [\n",
    "            ('windowing', TimeWindowTransformer(columns=cols)),\n",
    "            ('debug', Debug()),\n",
    "            ('imputer', SimpleImputer(strategy='mean')),\n",
    "            ('scaler', MinMaxScaler(feature_range=(0, 1))),\n",
    "            ('clf', DummyRegressor())\n",
    "        ],\n",
    "    ), \n",
    "    param_grid=[\n",
    "        {\n",
    "            'windowing__aggregate': [agg],\n",
    "            'windowing__rolling': range(1, 32, 10),\n",
    "            'windowing__dropna': [False],\n",
    "            'clf': [TransformedTargetRegressor(\n",
    "                        transformer=MinMaxScaler(feature_range=(0, 1)), \n",
    "                        regressor=SVR(cache_size=1000)\n",
    "                    )],\n",
    "            'clf__regressor__C': range(1, 15, 3),\n",
    "            'clf__regressor__gamma': ['auto', 'scale'],\n",
    "            'clf__regressor__kernel': ['rbf']\n",
    "        },\n",
    "        {\n",
    "            'windowing__aggregate': [agg],\n",
    "            'windowing__rolling': range(1, 32, 10),\n",
    "            'windowing__dropna': [False],\n",
    "            'clf': (RandomForestRegressor(),),\n",
    "            'clf__random_state': [seed],\n",
    "            'clf__n_estimators': [200]\n",
    "        },\n",
    "        {\n",
    "            'windowing__aggregate': [agg],\n",
    "            'windowing__rolling': range(1, 32, 10),\n",
    "            'windowing__dropna': [False],\n",
    "            'clf': (DecisionTreeRegressor(), ),\n",
    "            'clf__random_state': [seed]\n",
    "        },\n",
    "        {\n",
    "            'windowing__aggregate': [agg],\n",
    "            'windowing__rolling': range(1, 32, 10),\n",
    "            'windowing__dropna': [False],\n",
    "            'clf': (StackingRegressor(\n",
    "                estimators=[('RandomForest', RandomForestRegressor()), ('SVR', SVR())], \n",
    "                final_estimator=Ridge()\n",
    "            ),),\n",
    "            'clf__RandomForest__random_state': [seed],\n",
    "            'clf__RandomForest__n_estimators': [200],\n",
    "        }\n",
    "    ],\n",
    "    scoring='neg_root_mean_squared_error',\n",
    "    cv=cv,\n",
    "    n_jobs=-1,\n",
    "    verbose=1\n",
    ")"
   ]
  },
  {
   "cell_type": "code",
   "execution_count": 31,
   "metadata": {},
   "outputs": [
    {
     "output_type": "stream",
     "name": "stdout",
     "text": [
      "Fitting 10 folds for each of 52 candidates, totalling 520 fits\n"
     ]
    }
   ],
   "source": [
    "targets = ['level', 'streamflow']\n",
    "\n",
    "clf_search = {target: GridSearchCV(**grid_search_params) for target in targets}\n",
    "\n",
    "level_estimator_search = clf_search['level']\n",
    "streamflow_estimator_search = clf_search['streamflow']\n",
    "\n",
    "level_estimator_search.fit(ConsolidatedDataFrame, ConsolidatedDataFrame.index.get_level_values('level'))\n",
    "streamflow_estimator_search.fit(ConsolidatedDataFrame, ConsolidatedDataFrame.index.get_level_values('streamflow')) "
   ]
  },
  {
   "cell_type": "code",
   "execution_count": 15,
   "metadata": {},
   "outputs": [],
   "source": [
    "level_X_train, level_X_test, level_y_train, level_y_test = train_test_split(\n",
    "     ConsolidatedDataFrame,\n",
    "     ConsolidatedDataFrame.index.get_level_values('level'),\n",
    "     random_state=seed,\n",
    "     shuffle=False\n",
    ")\n",
    "\n",
    "streamflow_X_train, streamflow_X_test, streamflow_y_train, streamflow_y_test = train_test_split(\n",
    "     ConsolidatedDataFrame,\n",
    "     ConsolidatedDataFrame.index.get_level_values('streamflow'),\n",
    "     random_state=seed,\n",
    "     shuffle=False\n",
    ")"
   ]
  },
  {
   "cell_type": "code",
   "execution_count": 16,
   "metadata": {},
   "outputs": [
    {
     "output_type": "execute_result",
     "data": {
      "text/plain": [
       "Pipeline(steps=[('windowing',\n",
       "                 TimeWindowTransformer(aggregate={('evaporation', 1): 'sum',\n",
       "                                                  ('evaporation', 2): 'sum',\n",
       "                                                  ('evaporation', 3): 'sum',\n",
       "                                                  ('evaporation', 4): 'sum',\n",
       "                                                  ('evaporation', 5): 'sum',\n",
       "                                                  ('evaporation', 6): 'sum',\n",
       "                                                  ('evaporation', 7): 'sum',\n",
       "                                                  ('evaporation', 8): 'sum',\n",
       "                                                  ('evaporation', 9): 'sum',\n",
       "                                                  ('evaporation', 10): 'sum',\n",
       "                                                  ('evaporation', 11): 'sum',\n",
       "                                                  ('precipitation', 1): 's...\n",
       "                                                  ('surface_runoff', 6): 'mean',\n",
       "                                                  ('surface_runoff', 7): 'mean',\n",
       "                                                  ('surface_runoff', 8): 'mean', ...},\n",
       "                                       columns=['precipitation', 'evaporation',\n",
       "                                                'temperature',\n",
       "                                                'surface_runoff'])),\n",
       "                ('imputer', SimpleImputer()), ('scaler', MinMaxScaler()),\n",
       "                ('clf',\n",
       "                 StackingRegressor(estimators=[('RandomForest',\n",
       "                                                RandomForestRegressor(n_estimators=200,\n",
       "                                                                      random_state=0)),\n",
       "                                               ('SVR', SVR())],\n",
       "                                   final_estimator=Ridge()))])"
      ]
     },
     "metadata": {},
     "execution_count": 16
    }
   ],
   "source": [
    "level_estimator = level_estimator_search.best_estimator_\n",
    "streamflow_estimator = streamflow_estimator_search.best_estimator_\n",
    "\n",
    "level_estimator.fit(level_X_train, level_y_train)\n",
    "streamflow_estimator.fit(streamflow_X_train, streamflow_y_train)"
   ]
  },
  {
   "cell_type": "code",
   "execution_count": 17,
   "metadata": {},
   "outputs": [
    {
     "output_type": "stream",
     "name": "stdout",
     "text": [
      "level score: -0.09811071491078249 +- 0.08143622559082732\n"
     ]
    }
   ],
   "source": [
    "level_cv_score = cross_val_score(\n",
    "    level_estimator,\n",
    "    level_X_test, level_y_test,\n",
    "    scoring='neg_root_mean_squared_error',\n",
    "    cv=10,\n",
    "    n_jobs=-1,\n",
    "    error_score='raise'\n",
    ")\n",
    "\n",
    "print(f\"level score: {level_cv_score.mean()} +- {level_cv_score.std()}\")"
   ]
  },
  {
   "cell_type": "code",
   "execution_count": 18,
   "metadata": {},
   "outputs": [
    {
     "output_type": "stream",
     "name": "stdout",
     "text": [
      "streamflow score: -228.1500149107802 +- 127.43607064430101\n"
     ]
    }
   ],
   "source": [
    "streamflow_cv_score = cross_val_score(\n",
    "    streamflow_estimator,\n",
    "    streamflow_X_test, streamflow_y_test,\n",
    "    scoring='neg_root_mean_squared_error',\n",
    "    cv=10,\n",
    "    n_jobs=-1,\n",
    "    error_score='raise'\n",
    ")\n",
    "\n",
    "print(f\"streamflow score: {streamflow_cv_score.mean()} +- {streamflow_cv_score.std()}\")"
   ]
  },
  {
   "cell_type": "code",
   "execution_count": 19,
   "metadata": {},
   "outputs": [
    {
     "output_type": "execute_result",
     "data": {
      "text/plain": [
       "      level    p_level  streamflow  p_streamflow\n",
       "0    569.73  569.38105      977.11    979.145425\n",
       "1    569.78  569.38105      943.69    940.215285\n",
       "2    569.83  569.38105      927.69    928.356708\n",
       "3    569.88  569.38105      927.69    893.812914\n",
       "4    569.92  569.38105      821.26    979.130355\n",
       "..      ...        ...         ...           ...\n",
       "622  568.51  568.63855     1068.11   1095.624956\n",
       "623  568.44  568.62080     1027.44   1007.062057\n",
       "624  568.40  568.51360      902.97   1110.739947\n",
       "625  568.38  568.50185     1106.56   1025.132982\n",
       "626  568.35  568.47000      881.33   1157.527544\n",
       "\n",
       "[627 rows x 4 columns]"
      ],
      "text/html": "<div>\n<style scoped>\n    .dataframe tbody tr th:only-of-type {\n        vertical-align: middle;\n    }\n\n    .dataframe tbody tr th {\n        vertical-align: top;\n    }\n\n    .dataframe thead th {\n        text-align: right;\n    }\n</style>\n<table border=\"1\" class=\"dataframe\">\n  <thead>\n    <tr style=\"text-align: right;\">\n      <th></th>\n      <th>level</th>\n      <th>p_level</th>\n      <th>streamflow</th>\n      <th>p_streamflow</th>\n    </tr>\n  </thead>\n  <tbody>\n    <tr>\n      <th>0</th>\n      <td>569.73</td>\n      <td>569.38105</td>\n      <td>977.11</td>\n      <td>979.145425</td>\n    </tr>\n    <tr>\n      <th>1</th>\n      <td>569.78</td>\n      <td>569.38105</td>\n      <td>943.69</td>\n      <td>940.215285</td>\n    </tr>\n    <tr>\n      <th>2</th>\n      <td>569.83</td>\n      <td>569.38105</td>\n      <td>927.69</td>\n      <td>928.356708</td>\n    </tr>\n    <tr>\n      <th>3</th>\n      <td>569.88</td>\n      <td>569.38105</td>\n      <td>927.69</td>\n      <td>893.812914</td>\n    </tr>\n    <tr>\n      <th>4</th>\n      <td>569.92</td>\n      <td>569.38105</td>\n      <td>821.26</td>\n      <td>979.130355</td>\n    </tr>\n    <tr>\n      <th>...</th>\n      <td>...</td>\n      <td>...</td>\n      <td>...</td>\n      <td>...</td>\n    </tr>\n    <tr>\n      <th>622</th>\n      <td>568.51</td>\n      <td>568.63855</td>\n      <td>1068.11</td>\n      <td>1095.624956</td>\n    </tr>\n    <tr>\n      <th>623</th>\n      <td>568.44</td>\n      <td>568.62080</td>\n      <td>1027.44</td>\n      <td>1007.062057</td>\n    </tr>\n    <tr>\n      <th>624</th>\n      <td>568.40</td>\n      <td>568.51360</td>\n      <td>902.97</td>\n      <td>1110.739947</td>\n    </tr>\n    <tr>\n      <th>625</th>\n      <td>568.38</td>\n      <td>568.50185</td>\n      <td>1106.56</td>\n      <td>1025.132982</td>\n    </tr>\n    <tr>\n      <th>626</th>\n      <td>568.35</td>\n      <td>568.47000</td>\n      <td>881.33</td>\n      <td>1157.527544</td>\n    </tr>\n  </tbody>\n</table>\n<p>627 rows × 4 columns</p>\n</div>"
     },
     "metadata": {},
     "execution_count": 19
    }
   ],
   "source": [
    "test_df = pandas.DataFrame()\n",
    "test_df['level'] = level_y_test\n",
    "test_df['p_level'] = level_estimator.predict(level_X_test)\n",
    "test_df['streamflow'] = streamflow_y_test\n",
    "test_df['p_streamflow'] = streamflow_estimator.predict(streamflow_X_test)\n",
    "test_df"
   ]
  },
  {
   "cell_type": "code",
   "execution_count": 20,
   "metadata": {},
   "outputs": [
    {
     "output_type": "execute_result",
     "data": {
      "text/plain": [
       "       level    p_level  streamflow  p_streamflow\n",
       "0     560.28  560.24625     1128.00   1050.115575\n",
       "1     560.35  560.39680     1021.00    992.265916\n",
       "2     560.47  560.44490     1307.00   1189.442065\n",
       "3     560.62  560.56920     1481.00   1343.516031\n",
       "4     560.78  560.75635     1555.00   1562.833802\n",
       "...      ...        ...         ...           ...\n",
       "2502  568.51  568.63855     1068.11   1095.624956\n",
       "2503  568.44  568.62080     1027.44   1007.062057\n",
       "2504  568.40  568.51360      902.97   1110.739947\n",
       "2505  568.38  568.50185     1106.56   1025.132982\n",
       "2506  568.35  568.47000      881.33   1157.527544\n",
       "\n",
       "[2507 rows x 4 columns]"
      ],
      "text/html": "<div>\n<style scoped>\n    .dataframe tbody tr th:only-of-type {\n        vertical-align: middle;\n    }\n\n    .dataframe tbody tr th {\n        vertical-align: top;\n    }\n\n    .dataframe thead th {\n        text-align: right;\n    }\n</style>\n<table border=\"1\" class=\"dataframe\">\n  <thead>\n    <tr style=\"text-align: right;\">\n      <th></th>\n      <th>level</th>\n      <th>p_level</th>\n      <th>streamflow</th>\n      <th>p_streamflow</th>\n    </tr>\n  </thead>\n  <tbody>\n    <tr>\n      <th>0</th>\n      <td>560.28</td>\n      <td>560.24625</td>\n      <td>1128.00</td>\n      <td>1050.115575</td>\n    </tr>\n    <tr>\n      <th>1</th>\n      <td>560.35</td>\n      <td>560.39680</td>\n      <td>1021.00</td>\n      <td>992.265916</td>\n    </tr>\n    <tr>\n      <th>2</th>\n      <td>560.47</td>\n      <td>560.44490</td>\n      <td>1307.00</td>\n      <td>1189.442065</td>\n    </tr>\n    <tr>\n      <th>3</th>\n      <td>560.62</td>\n      <td>560.56920</td>\n      <td>1481.00</td>\n      <td>1343.516031</td>\n    </tr>\n    <tr>\n      <th>4</th>\n      <td>560.78</td>\n      <td>560.75635</td>\n      <td>1555.00</td>\n      <td>1562.833802</td>\n    </tr>\n    <tr>\n      <th>...</th>\n      <td>...</td>\n      <td>...</td>\n      <td>...</td>\n      <td>...</td>\n    </tr>\n    <tr>\n      <th>2502</th>\n      <td>568.51</td>\n      <td>568.63855</td>\n      <td>1068.11</td>\n      <td>1095.624956</td>\n    </tr>\n    <tr>\n      <th>2503</th>\n      <td>568.44</td>\n      <td>568.62080</td>\n      <td>1027.44</td>\n      <td>1007.062057</td>\n    </tr>\n    <tr>\n      <th>2504</th>\n      <td>568.40</td>\n      <td>568.51360</td>\n      <td>902.97</td>\n      <td>1110.739947</td>\n    </tr>\n    <tr>\n      <th>2505</th>\n      <td>568.38</td>\n      <td>568.50185</td>\n      <td>1106.56</td>\n      <td>1025.132982</td>\n    </tr>\n    <tr>\n      <th>2506</th>\n      <td>568.35</td>\n      <td>568.47000</td>\n      <td>881.33</td>\n      <td>1157.527544</td>\n    </tr>\n  </tbody>\n</table>\n<p>2507 rows × 4 columns</p>\n</div>"
     },
     "metadata": {},
     "execution_count": 20
    }
   ],
   "source": [
    "full_df = pandas.DataFrame()\n",
    "full_df['level'] = ConsolidatedDataFrame.index.get_level_values('level')\n",
    "full_df['p_level'] = level_estimator.predict(ConsolidatedDataFrame)\n",
    "full_df['streamflow'] = ConsolidatedDataFrame.index.get_level_values('streamflow')\n",
    "full_df['p_streamflow'] = streamflow_estimator.predict(ConsolidatedDataFrame)\n",
    "full_df"
   ]
  },
  {
   "cell_type": "code",
   "execution_count": null,
   "metadata": {},
   "outputs": [],
   "source": []
  }
 ],
 "metadata": {
  "kernelspec": {
   "name": "python3",
   "display_name": "Python 3.9.5  ('.env': venv)"
  },
  "language_info": {
   "codemirror_mode": {
    "name": "ipython",
    "version": 3
   },
   "file_extension": ".py",
   "mimetype": "text/x-python",
   "name": "python",
   "nbconvert_exporter": "python",
   "pygments_lexer": "ipython3",
   "version": "3.9.5"
  },
  "interpreter": {
   "hash": "e01c415138263b81e74f4b8560efc462ff3e43faa8a63c42675b82c8ccb72528"
  }
 },
 "nbformat": 4,
 "nbformat_minor": 4
}