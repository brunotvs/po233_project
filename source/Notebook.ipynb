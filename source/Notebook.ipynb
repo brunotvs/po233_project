{
 "cells": [
  {
   "source": [
    "## Construção do dataframe utilizando buscas no banco de dados sql\n",
    "%load_ext autoreload\n",
    "%autoreload 2"
   ],
   "cell_type": "code",
   "metadata": {},
   "execution_count": 1,
   "outputs": []
  },
  {
   "source": [
    "from sqlalchemy import select\n",
    "\n",
    "from data_base.models import models\n",
    "from data_base.connection import session\n",
    "\n",
    "query = select(\n",
    "    models.Variables.date,\n",
    "    models.Variables.precipitation.label('precipitation'),\n",
    "    models.Variables.temperature.label('temperature'),\n",
    "    models.Variables.evaporation.label('evaporation'),\n",
    "    models.Variables.surface_runoff.label('surface_runoff'),\n",
    "    models.Coordinate.river_id.label('river'),    \n",
    "    models.Reservoir.level,\n",
    "    models.Reservoir.streamflow\n",
    ").\\\n",
    "    join(models.Variables.coordinate).\\\n",
    "    join(models.Reservoir, models.Variables.date == models.Reservoir.date)\n",
    "\n",
    "\n"
   ],
   "cell_type": "code",
   "metadata": {},
   "execution_count": 2,
   "outputs": []
  },
  {
   "cell_type": "code",
   "execution_count": 3,
   "metadata": {},
   "outputs": [],
   "source": [
    "import pandas\n",
    "RawDataFrame = pandas.read_sql(query, session.bind)\n"
   ]
  },
  {
   "source": [
    "# DataFrame consolidado porém com os atributos para cada rio posicionados em uma diferente coluna\n",
    "ConsolidatedDataFrame = (\n",
    "    RawDataFrame.\n",
    "    groupby(['date', 'river', 'level', 'streamflow']).\n",
    "    agg({\n",
    "        'precipitation': 'sum',\n",
    "        'evaporation': 'sum',\n",
    "        'temperature': 'mean',\n",
    "        'surface_runoff':'mean',\n",
    "    }).\n",
    "    reset_index().\n",
    "    pivot(index=[\"date\", 'level', 'streamflow'], columns=\"river\")\n",
    ")\n",
    "\n",
    "ConsolidatedDataFrame.insert(0,'previous_streamflow', pandas.DataFrame(ConsolidatedDataFrame.index.get_level_values('streamflow')).shift(1).values)\n",
    "ConsolidatedDataFrame.insert(0,'previous_level', pandas.DataFrame(ConsolidatedDataFrame.index.get_level_values('level')).shift(1).values)\n",
    "\n",
    "ConsolidatedDataFrame = ConsolidatedDataFrame.dropna()\n",
    "ConsolidatedDataFrame\n"
   ],
   "cell_type": "code",
   "metadata": {},
   "execution_count": 4,
   "outputs": [
    {
     "output_type": "execute_result",
     "data": {
      "text/plain": [
       "                             previous_level previous_streamflow precipitation  \\\n",
       "river                                                                       1   \n",
       "date       level  streamflow                                                    \n",
       "1999-01-02 560.28 1128.00            560.19              854.00    793.719631   \n",
       "1999-01-03 560.35 1021.00            560.28             1128.00   1098.730582   \n",
       "1999-01-04 560.47 1307.00            560.35             1021.00    966.199458   \n",
       "1999-01-05 560.62 1481.00            560.47             1307.00    273.113279   \n",
       "1999-01-06 560.78 1555.00            560.62             1481.00    820.311822   \n",
       "...                                     ...                 ...           ...   \n",
       "2005-12-26 568.51 1068.11            568.55             1227.00     62.192756   \n",
       "2005-12-27 568.44 1027.44            568.51             1068.11    140.071616   \n",
       "2005-12-28 568.40 902.97             568.44             1027.44    683.323431   \n",
       "2005-12-29 568.38 1106.56            568.40              902.97   1589.087376   \n",
       "2005-12-30 568.35 881.33             568.38             1106.56     18.549537   \n",
       "\n",
       "                                                                               \\\n",
       "river                                   2           3           4           5   \n",
       "date       level  streamflow                                                    \n",
       "1999-01-02 560.28 1128.00      489.695138  110.695258   85.585158  212.667287   \n",
       "1999-01-03 560.35 1021.00     1073.648047  191.857469  135.788901  301.326610   \n",
       "1999-01-04 560.47 1307.00      925.685374  111.636958   87.936838  219.241251   \n",
       "1999-01-05 560.62 1481.00      359.294498    2.801905    7.419221   27.256007   \n",
       "1999-01-06 560.78 1555.00      720.483393  141.758409   94.296583  189.727925   \n",
       "...                                   ...         ...         ...         ...   \n",
       "2005-12-26 568.51 1068.11      272.506781    0.128756    0.728183    4.973414   \n",
       "2005-12-27 568.44 1027.44      134.625157   28.822960   26.483711   67.049912   \n",
       "2005-12-28 568.40 902.97      1267.992157   80.176759   55.567427  139.098593   \n",
       "2005-12-29 568.38 1106.56     2039.549887  270.658218  204.444199  501.566561   \n",
       "2005-12-30 568.35 881.33        39.900494    0.000000    0.000000    0.000000   \n",
       "\n",
       "                                                                  ...  \\\n",
       "river                                  6           7           8  ...   \n",
       "date       level  streamflow                                      ...   \n",
       "1999-01-02 560.28 1128.00     156.652986  442.018330  712.320556  ...   \n",
       "1999-01-03 560.35 1021.00     218.532570  296.882969  630.266191  ...   \n",
       "1999-01-04 560.47 1307.00     183.210818  134.095318  239.354739  ...   \n",
       "1999-01-05 560.62 1481.00      21.757371  153.764811  180.616363  ...   \n",
       "1999-01-06 560.78 1555.00     140.160450  183.347353  351.402533  ...   \n",
       "...                                  ...         ...         ...  ...   \n",
       "2005-12-26 568.51 1068.11      26.787834    0.000000    0.005358  ...   \n",
       "2005-12-27 568.44 1027.44      55.686758   62.191904  120.094629  ...   \n",
       "2005-12-28 568.40 902.97      136.490363  127.424603  299.923742  ...   \n",
       "2005-12-29 568.38 1106.56     414.706602  521.939386  980.966684  ...   \n",
       "2005-12-30 568.35 881.33        0.000000    0.000000    0.000000  ...   \n",
       "\n",
       "                             surface_runoff                          \\\n",
       "river                                     2         3             4   \n",
       "date       level  streamflow                                          \n",
       "1999-01-02 560.28 1128.00          0.247559  0.415066  4.208309e-01   \n",
       "1999-01-03 560.35 1021.00          0.461799  0.569603  4.967474e-01   \n",
       "1999-01-04 560.47 1307.00          0.449394  0.244052  2.483944e-01   \n",
       "1999-01-05 560.62 1481.00          0.086567  0.001172  4.046416e-03   \n",
       "1999-01-06 560.78 1555.00          0.621405  0.688863  6.904144e-01   \n",
       "...                                     ...       ...           ...   \n",
       "2005-12-26 568.51 1068.11          0.132323  0.000012  2.241300e-04   \n",
       "2005-12-27 568.44 1027.44          0.003189  0.007080  7.337448e-03   \n",
       "2005-12-28 568.40 902.97           0.421945  0.086313  8.438702e-02   \n",
       "2005-12-29 568.38 1106.56          0.954975  1.278921  1.223015e+00   \n",
       "2005-12-30 568.35 881.33           0.002526  0.000000  7.929556e-10   \n",
       "\n",
       "                                                                              \\\n",
       "river                                    5         6         7             8   \n",
       "date       level  streamflow                                                   \n",
       "1999-01-02 560.28 1128.00     3.955342e-01  0.252776  1.099707  1.121611e+00   \n",
       "1999-01-03 560.35 1021.00     4.353504e-01  0.326826  0.538661  8.398713e-01   \n",
       "1999-01-04 560.47 1307.00     2.444939e-01  0.221106  0.120044  1.128541e-01   \n",
       "1999-01-05 560.62 1481.00     5.847266e-03  0.005015  0.301938  2.548458e-01   \n",
       "1999-01-06 560.78 1555.00     6.253536e-01  0.570796  0.266499  4.545572e-01   \n",
       "...                                    ...       ...       ...           ...   \n",
       "2005-12-26 568.51 1068.11     5.918848e-03  0.041042  0.000000  1.959131e-07   \n",
       "2005-12-27 568.44 1027.44     7.120000e-03  0.011981  0.008833  1.499046e-02   \n",
       "2005-12-28 568.40 902.97      9.693098e-02  0.125528  0.043880  1.938419e-01   \n",
       "2005-12-29 568.38 1106.56     1.259939e+00  1.102783  1.389652  1.590770e+00   \n",
       "2005-12-30 568.35 881.33      4.325213e-10  0.000000  0.000000  1.160423e-10   \n",
       "\n",
       "                                                            \n",
       "river                                9        10        11  \n",
       "date       level  streamflow                                \n",
       "1999-01-02 560.28 1128.00     1.531772  1.227036  0.095943  \n",
       "1999-01-03 560.35 1021.00     1.719842  2.360424  0.322681  \n",
       "1999-01-04 560.47 1307.00     0.830939  2.724089  0.328260  \n",
       "1999-01-05 560.62 1481.00     0.473589  0.404729  0.008492  \n",
       "1999-01-06 560.78 1555.00     0.479431  1.042385  0.598677  \n",
       "...                                ...       ...       ...  \n",
       "2005-12-26 568.51 1068.11     0.009844  0.348761  0.128595  \n",
       "2005-12-27 568.44 1027.44     0.318010  0.523005  0.017385  \n",
       "2005-12-28 568.40 902.97      0.440160  1.408806  0.223083  \n",
       "2005-12-29 568.38 1106.56     0.590228  0.848934  0.897973  \n",
       "2005-12-30 568.35 881.33      0.078422  0.225377  0.000908  \n",
       "\n",
       "[2507 rows x 46 columns]"
      ],
      "text/html": "<div>\n<style scoped>\n    .dataframe tbody tr th:only-of-type {\n        vertical-align: middle;\n    }\n\n    .dataframe tbody tr th {\n        vertical-align: top;\n    }\n\n    .dataframe thead tr th {\n        text-align: left;\n    }\n\n    .dataframe thead tr:last-of-type th {\n        text-align: right;\n    }\n</style>\n<table border=\"1\" class=\"dataframe\">\n  <thead>\n    <tr>\n      <th></th>\n      <th></th>\n      <th></th>\n      <th>previous_level</th>\n      <th>previous_streamflow</th>\n      <th colspan=\"8\" halign=\"left\">precipitation</th>\n      <th>...</th>\n      <th colspan=\"10\" halign=\"left\">surface_runoff</th>\n    </tr>\n    <tr>\n      <th></th>\n      <th></th>\n      <th>river</th>\n      <th></th>\n      <th></th>\n      <th>1</th>\n      <th>2</th>\n      <th>3</th>\n      <th>4</th>\n      <th>5</th>\n      <th>6</th>\n      <th>7</th>\n      <th>8</th>\n      <th>...</th>\n      <th>2</th>\n      <th>3</th>\n      <th>4</th>\n      <th>5</th>\n      <th>6</th>\n      <th>7</th>\n      <th>8</th>\n      <th>9</th>\n      <th>10</th>\n      <th>11</th>\n    </tr>\n    <tr>\n      <th>date</th>\n      <th>level</th>\n      <th>streamflow</th>\n      <th></th>\n      <th></th>\n      <th></th>\n      <th></th>\n      <th></th>\n      <th></th>\n      <th></th>\n      <th></th>\n      <th></th>\n      <th></th>\n      <th></th>\n      <th></th>\n      <th></th>\n      <th></th>\n      <th></th>\n      <th></th>\n      <th></th>\n      <th></th>\n      <th></th>\n      <th></th>\n      <th></th>\n    </tr>\n  </thead>\n  <tbody>\n    <tr>\n      <th>1999-01-02</th>\n      <th>560.28</th>\n      <th>1128.00</th>\n      <td>560.19</td>\n      <td>854.00</td>\n      <td>793.719631</td>\n      <td>489.695138</td>\n      <td>110.695258</td>\n      <td>85.585158</td>\n      <td>212.667287</td>\n      <td>156.652986</td>\n      <td>442.018330</td>\n      <td>712.320556</td>\n      <td>...</td>\n      <td>0.247559</td>\n      <td>0.415066</td>\n      <td>4.208309e-01</td>\n      <td>3.955342e-01</td>\n      <td>0.252776</td>\n      <td>1.099707</td>\n      <td>1.121611e+00</td>\n      <td>1.531772</td>\n      <td>1.227036</td>\n      <td>0.095943</td>\n    </tr>\n    <tr>\n      <th>1999-01-03</th>\n      <th>560.35</th>\n      <th>1021.00</th>\n      <td>560.28</td>\n      <td>1128.00</td>\n      <td>1098.730582</td>\n      <td>1073.648047</td>\n      <td>191.857469</td>\n      <td>135.788901</td>\n      <td>301.326610</td>\n      <td>218.532570</td>\n      <td>296.882969</td>\n      <td>630.266191</td>\n      <td>...</td>\n      <td>0.461799</td>\n      <td>0.569603</td>\n      <td>4.967474e-01</td>\n      <td>4.353504e-01</td>\n      <td>0.326826</td>\n      <td>0.538661</td>\n      <td>8.398713e-01</td>\n      <td>1.719842</td>\n      <td>2.360424</td>\n      <td>0.322681</td>\n    </tr>\n    <tr>\n      <th>1999-01-04</th>\n      <th>560.47</th>\n      <th>1307.00</th>\n      <td>560.35</td>\n      <td>1021.00</td>\n      <td>966.199458</td>\n      <td>925.685374</td>\n      <td>111.636958</td>\n      <td>87.936838</td>\n      <td>219.241251</td>\n      <td>183.210818</td>\n      <td>134.095318</td>\n      <td>239.354739</td>\n      <td>...</td>\n      <td>0.449394</td>\n      <td>0.244052</td>\n      <td>2.483944e-01</td>\n      <td>2.444939e-01</td>\n      <td>0.221106</td>\n      <td>0.120044</td>\n      <td>1.128541e-01</td>\n      <td>0.830939</td>\n      <td>2.724089</td>\n      <td>0.328260</td>\n    </tr>\n    <tr>\n      <th>1999-01-05</th>\n      <th>560.62</th>\n      <th>1481.00</th>\n      <td>560.47</td>\n      <td>1307.00</td>\n      <td>273.113279</td>\n      <td>359.294498</td>\n      <td>2.801905</td>\n      <td>7.419221</td>\n      <td>27.256007</td>\n      <td>21.757371</td>\n      <td>153.764811</td>\n      <td>180.616363</td>\n      <td>...</td>\n      <td>0.086567</td>\n      <td>0.001172</td>\n      <td>4.046416e-03</td>\n      <td>5.847266e-03</td>\n      <td>0.005015</td>\n      <td>0.301938</td>\n      <td>2.548458e-01</td>\n      <td>0.473589</td>\n      <td>0.404729</td>\n      <td>0.008492</td>\n    </tr>\n    <tr>\n      <th>1999-01-06</th>\n      <th>560.78</th>\n      <th>1555.00</th>\n      <td>560.62</td>\n      <td>1481.00</td>\n      <td>820.311822</td>\n      <td>720.483393</td>\n      <td>141.758409</td>\n      <td>94.296583</td>\n      <td>189.727925</td>\n      <td>140.160450</td>\n      <td>183.347353</td>\n      <td>351.402533</td>\n      <td>...</td>\n      <td>0.621405</td>\n      <td>0.688863</td>\n      <td>6.904144e-01</td>\n      <td>6.253536e-01</td>\n      <td>0.570796</td>\n      <td>0.266499</td>\n      <td>4.545572e-01</td>\n      <td>0.479431</td>\n      <td>1.042385</td>\n      <td>0.598677</td>\n    </tr>\n    <tr>\n      <th>...</th>\n      <th>...</th>\n      <th>...</th>\n      <td>...</td>\n      <td>...</td>\n      <td>...</td>\n      <td>...</td>\n      <td>...</td>\n      <td>...</td>\n      <td>...</td>\n      <td>...</td>\n      <td>...</td>\n      <td>...</td>\n      <td>...</td>\n      <td>...</td>\n      <td>...</td>\n      <td>...</td>\n      <td>...</td>\n      <td>...</td>\n      <td>...</td>\n      <td>...</td>\n      <td>...</td>\n      <td>...</td>\n      <td>...</td>\n    </tr>\n    <tr>\n      <th>2005-12-26</th>\n      <th>568.51</th>\n      <th>1068.11</th>\n      <td>568.55</td>\n      <td>1227.00</td>\n      <td>62.192756</td>\n      <td>272.506781</td>\n      <td>0.128756</td>\n      <td>0.728183</td>\n      <td>4.973414</td>\n      <td>26.787834</td>\n      <td>0.000000</td>\n      <td>0.005358</td>\n      <td>...</td>\n      <td>0.132323</td>\n      <td>0.000012</td>\n      <td>2.241300e-04</td>\n      <td>5.918848e-03</td>\n      <td>0.041042</td>\n      <td>0.000000</td>\n      <td>1.959131e-07</td>\n      <td>0.009844</td>\n      <td>0.348761</td>\n      <td>0.128595</td>\n    </tr>\n    <tr>\n      <th>2005-12-27</th>\n      <th>568.44</th>\n      <th>1027.44</th>\n      <td>568.51</td>\n      <td>1068.11</td>\n      <td>140.071616</td>\n      <td>134.625157</td>\n      <td>28.822960</td>\n      <td>26.483711</td>\n      <td>67.049912</td>\n      <td>55.686758</td>\n      <td>62.191904</td>\n      <td>120.094629</td>\n      <td>...</td>\n      <td>0.003189</td>\n      <td>0.007080</td>\n      <td>7.337448e-03</td>\n      <td>7.120000e-03</td>\n      <td>0.011981</td>\n      <td>0.008833</td>\n      <td>1.499046e-02</td>\n      <td>0.318010</td>\n      <td>0.523005</td>\n      <td>0.017385</td>\n    </tr>\n    <tr>\n      <th>2005-12-28</th>\n      <th>568.40</th>\n      <th>902.97</th>\n      <td>568.44</td>\n      <td>1027.44</td>\n      <td>683.323431</td>\n      <td>1267.992157</td>\n      <td>80.176759</td>\n      <td>55.567427</td>\n      <td>139.098593</td>\n      <td>136.490363</td>\n      <td>127.424603</td>\n      <td>299.923742</td>\n      <td>...</td>\n      <td>0.421945</td>\n      <td>0.086313</td>\n      <td>8.438702e-02</td>\n      <td>9.693098e-02</td>\n      <td>0.125528</td>\n      <td>0.043880</td>\n      <td>1.938419e-01</td>\n      <td>0.440160</td>\n      <td>1.408806</td>\n      <td>0.223083</td>\n    </tr>\n    <tr>\n      <th>2005-12-29</th>\n      <th>568.38</th>\n      <th>1106.56</th>\n      <td>568.40</td>\n      <td>902.97</td>\n      <td>1589.087376</td>\n      <td>2039.549887</td>\n      <td>270.658218</td>\n      <td>204.444199</td>\n      <td>501.566561</td>\n      <td>414.706602</td>\n      <td>521.939386</td>\n      <td>980.966684</td>\n      <td>...</td>\n      <td>0.954975</td>\n      <td>1.278921</td>\n      <td>1.223015e+00</td>\n      <td>1.259939e+00</td>\n      <td>1.102783</td>\n      <td>1.389652</td>\n      <td>1.590770e+00</td>\n      <td>0.590228</td>\n      <td>0.848934</td>\n      <td>0.897973</td>\n    </tr>\n    <tr>\n      <th>2005-12-30</th>\n      <th>568.35</th>\n      <th>881.33</th>\n      <td>568.38</td>\n      <td>1106.56</td>\n      <td>18.549537</td>\n      <td>39.900494</td>\n      <td>0.000000</td>\n      <td>0.000000</td>\n      <td>0.000000</td>\n      <td>0.000000</td>\n      <td>0.000000</td>\n      <td>0.000000</td>\n      <td>...</td>\n      <td>0.002526</td>\n      <td>0.000000</td>\n      <td>7.929556e-10</td>\n      <td>4.325213e-10</td>\n      <td>0.000000</td>\n      <td>0.000000</td>\n      <td>1.160423e-10</td>\n      <td>0.078422</td>\n      <td>0.225377</td>\n      <td>0.000908</td>\n    </tr>\n  </tbody>\n</table>\n<p>2507 rows × 46 columns</p>\n</div>"
     },
     "metadata": {},
     "execution_count": 4
    }
   ]
  },
  {
   "cell_type": "code",
   "execution_count": 5,
   "metadata": {},
   "outputs": [],
   "source": [
    "from sklearn import svm\n",
    "from sklearn.svm import SVR\n",
    "\n",
    "from sklearn.compose import TransformedTargetRegressor\n",
    "\n",
    "from sklearn.ensemble import RandomForestRegressor\n",
    "\n",
    "from sklearn.pipeline import Pipeline\n",
    "\n",
    "from sklearn.impute import SimpleImputer\n",
    "from sklearn.preprocessing import MinMaxScaler, StandardScaler\n",
    "from sklearn.feature_selection import VarianceThreshold, SelectKBest\n",
    "from sklearn.decomposition import PCA\n",
    "\n",
    "from sklearn.model_selection import GridSearchCV, KFold\n",
    "from sklearn.metrics import accuracy_score, precision_score, recall_score, f1_score\n",
    "from sklearn.metrics import make_scorer\n",
    "\n",
    "from custom_transfomers.date_window import TimeWindowTransformer"
   ]
  },
  {
   "source": [
    "seed = 0\n",
    "scorer = make_scorer(accuracy_score) # Teste outras\n",
    "\n",
    "cross_validation_10 = KFold(n_splits=10, shuffle=True, random_state=seed)\n",
    "\n",
    "cross_validation_3 = KFold(n_splits=3, shuffle=True, random_state=seed)\n",
    "\n"
   ],
   "cell_type": "code",
   "metadata": {},
   "execution_count": 6,
   "outputs": []
  },
  {
   "cell_type": "code",
   "execution_count": 7,
   "metadata": {},
   "outputs": [],
   "source": [
    "from project_utils.data_manipulation import generate_aggregation\n",
    "rivers = session.query(models.River).all()\n",
    "\n",
    "precipitation_agg = generate_aggregation('sum', 'precipitation', [river.id for river in rivers])\n",
    "evaporation_agg = generate_aggregation('sum', 'evaporation', [river.id for river in rivers])\n",
    "temperature_agg = generate_aggregation('mean', 'temperature', [river.id for river in rivers])\n",
    "runoff_agg = generate_aggregation('sum', 'surface_runoff', [river.id for river in rivers])\n",
    "\n",
    "cols = ['precipitation', 'evaporation', 'temperature', 'surface_runoff']\n"
   ]
  },
  {
   "cell_type": "code",
   "execution_count": 8,
   "metadata": {},
   "outputs": [],
   "source": [
    "import multiprocessing\n",
    "\n",
    "algorithms = {\n",
    "    # testar sem hiperparâmetros\n",
    "    'SVR':  GridSearchCV(\n",
    "            Pipeline([\n",
    "                ('windowing', TimeWindowTransformer(columns=cols)),\n",
    "                ('imputer', SimpleImputer(strategy='mean')),\n",
    "                ('scaler', MinMaxScaler(feature_range=(0, 1))),\n",
    "                ('transformer', TransformedTargetRegressor(\n",
    "                        transformer=MinMaxScaler(feature_range=(0, 1)), \n",
    "                        regressor=SVR(kernel='rbf', degree=3, gamma='auto', coef0=0.0, tol=0.001, epsilon=0.1, shrinking=True, cache_size=200, verbose=False, max_iter=- 1)\n",
    "                    )\n",
    "                )]), \n",
    "            param_grid={\n",
    "                'windowing__aggregate': [precipitation_agg | evaporation_agg | temperature_agg | runoff_agg],\n",
    "                'windowing__rolling': range(1, 30, 5),\n",
    "                'windowing__dropna': [False],\n",
    "                'transformer__regressor__C': range(1, 15, 3)\n",
    "            },\n",
    "            scoring='neg_mean_squared_error',\n",
    "            cv=5,\n",
    "            n_jobs=multiprocessing.cpu_count()-1,\n",
    "            verbose=10,\n",
    "            error_score='raise'\n",
    "        ),\n",
    "    'RandomForest':  GridSearchCV(\n",
    "            Pipeline([\n",
    "                ('windowing', TimeWindowTransformer(columns=cols)),\n",
    "                ('imputer', SimpleImputer(strategy='mean')),\n",
    "                ('random_forest', RandomForestRegressor(random_state=seed))]), \n",
    "            param_grid={\n",
    "                'windowing__aggregate': [precipitation_agg | evaporation_agg | temperature_agg | runoff_agg],\n",
    "                'windowing__rolling': range(1, 30, 5),\n",
    "                'windowing__dropna': [False],\n",
    "                'random_forest__max_depth': range(1, 20, 5)\n",
    "            },\n",
    "            scoring='neg_mean_squared_error',\n",
    "            cv=5,\n",
    "            n_jobs=multiprocessing.cpu_count()-1,\n",
    "            verbose=10,\n",
    "            error_score='raise'\n",
    "        ),\n",
    "    'NormalizedRandomForest':  GridSearchCV(\n",
    "            Pipeline([\n",
    "                ('windowing', TimeWindowTransformer(columns=cols)),\n",
    "                ('imputer', SimpleImputer(strategy='mean')),\n",
    "                ('scaler', MinMaxScaler(feature_range=(0, 1))),\n",
    "                ('transformer', TransformedTargetRegressor(\n",
    "                        transformer=MinMaxScaler(feature_range=(0, 1)),\n",
    "                        regressor=RandomForestRegressor(random_state=seed)\n",
    "                    )\n",
    "                )\n",
    "            ]), \n",
    "            param_grid={\n",
    "                'windowing__aggregate': [precipitation_agg | evaporation_agg | temperature_agg | runoff_agg],\n",
    "                'windowing__rolling': range(1, 30, 5),\n",
    "                'windowing__dropna': [False],\n",
    "                'transformer__regressor__max_depth': range(1, 20, 5)\n",
    "            },\n",
    "            scoring='neg_mean_squared_error',\n",
    "            cv=5,\n",
    "            n_jobs=-1,\n",
    "            verbose=10,\n",
    "            error_score='raise'\n",
    "        ),\n",
    "}"
   ]
  },
  {
   "cell_type": "code",
   "execution_count": 24,
   "metadata": {
    "tags": []
   },
   "outputs": [
    {
     "output_type": "stream",
     "name": "stdout",
     "text": [
      "Fitting 5 folds for each of 30 candidates, totalling 150 fits\n",
      "Fitting 5 folds for each of 30 candidates, totalling 150 fits\n",
      "Fitting 5 folds for each of 30 candidates, totalling 150 fits\n",
      "Fitting 5 folds for each of 30 candidates, totalling 150 fits\n",
      "Fitting 5 folds for each of 30 candidates, totalling 150 fits\n",
      "Fitting 5 folds for each of 24 candidates, totalling 120 fits\n",
      "Fitting 5 folds for each of 24 candidates, totalling 120 fits\n",
      "Fitting 5 folds for each of 24 candidates, totalling 120 fits\n",
      "Fitting 5 folds for each of 24 candidates, totalling 120 fits\n",
      "Fitting 5 folds for each of 24 candidates, totalling 120 fits\n",
      "Fitting 5 folds for each of 24 candidates, totalling 120 fits\n",
      "Fitting 5 folds for each of 24 candidates, totalling 120 fits\n",
      "Fitting 5 folds for each of 24 candidates, totalling 120 fits\n",
      "Fitting 5 folds for each of 24 candidates, totalling 120 fits\n",
      "Fitting 5 folds for each of 24 candidates, totalling 120 fits\n"
     ]
    }
   ],
   "source": [
    "from sklearn.model_selection import cross_val_score\n",
    "\n",
    "result_level = {}\n",
    "for alg, clf in algorithms.items():\n",
    "    result_level[alg] = cross_val_score(clf, ConsolidatedDataFrame, ConsolidatedDataFrame.index.get_level_values('level'))\n",
    "    result_level['target'] = 'level'\n",
    "\n",
    "\n"
   ]
  },
  {
   "cell_type": "code",
   "execution_count": 25,
   "metadata": {},
   "outputs": [
    {
     "output_type": "stream",
     "name": "stdout",
     "text": [
      "Fitting 5 folds for each of 30 candidates, totalling 150 fits\n",
      "Fitting 5 folds for each of 30 candidates, totalling 150 fits\n",
      "Fitting 5 folds for each of 30 candidates, totalling 150 fits\n",
      "Fitting 5 folds for each of 30 candidates, totalling 150 fits\n",
      "Fitting 5 folds for each of 30 candidates, totalling 150 fits\n",
      "Fitting 5 folds for each of 24 candidates, totalling 120 fits\n",
      "Fitting 5 folds for each of 24 candidates, totalling 120 fits\n",
      "Fitting 5 folds for each of 24 candidates, totalling 120 fits\n",
      "Fitting 5 folds for each of 24 candidates, totalling 120 fits\n",
      "Fitting 5 folds for each of 24 candidates, totalling 120 fits\n",
      "Fitting 5 folds for each of 24 candidates, totalling 120 fits\n",
      "Fitting 5 folds for each of 24 candidates, totalling 120 fits\n",
      "Fitting 5 folds for each of 24 candidates, totalling 120 fits\n",
      "Fitting 5 folds for each of 24 candidates, totalling 120 fits\n",
      "Fitting 5 folds for each of 24 candidates, totalling 120 fits\n"
     ]
    }
   ],
   "source": [
    "result_streamflow = {}\n",
    "for alg, clf in algorithms.items():\n",
    "    result_streamflow[alg] = cross_val_score(clf, ConsolidatedDataFrame, ConsolidatedDataFrame.index.get_level_values('streamflow'))\n",
    "    result_streamflow['target'] = 'streamflow'"
   ]
  },
  {
   "cell_type": "code",
   "execution_count": 29,
   "metadata": {},
   "outputs": [
    {
     "output_type": "stream",
     "name": "stdout",
     "text": [
      "{'SVR': array([-123482.44650861,  -50242.87479802,  -76314.41151703,\n        -67203.54389814,  -96751.8417353 ]), 'target': 'streamflow', 'RandomForest': array([-94240.08963015, -18509.35027031, -56275.67731969, -52154.75520509,\n       -69579.17109132]), 'NormalizedRandomForest': array([-95087.64419051, -18434.58959213, -55936.72337569, -51612.94452785,\n       -70359.83351012])}\n"
     ]
    }
   ],
   "source": [
    "print(result_streamflow)"
   ]
  },
  {
   "cell_type": "code",
   "execution_count": 33,
   "metadata": {},
   "outputs": [
    {
     "output_type": "execute_result",
     "data": {
      "text/plain": [
       "             SVR      target  RandomForest  NormalizedRandomForest\n",
       "0 -123482.446509  streamflow -94240.089630           -95087.644191\n",
       "1  -50242.874798  streamflow -18509.350270           -18434.589592\n",
       "2  -76314.411517  streamflow -56275.677320           -55936.723376\n",
       "3  -67203.543898  streamflow -52154.755205           -51612.944528\n",
       "4  -96751.841735  streamflow -69579.171091           -70359.833510\n",
       "0      -0.632483       level     -0.008483               -0.008495\n",
       "1      -0.872190       level     -0.024166               -0.026024\n",
       "2      -1.071584       level     -0.094294               -0.118986\n",
       "3      -1.458218       level     -0.004673               -0.009080\n",
       "4      -3.588278       level     -0.023362               -0.029020"
      ],
      "text/html": "<div>\n<style scoped>\n    .dataframe tbody tr th:only-of-type {\n        vertical-align: middle;\n    }\n\n    .dataframe tbody tr th {\n        vertical-align: top;\n    }\n\n    .dataframe thead th {\n        text-align: right;\n    }\n</style>\n<table border=\"1\" class=\"dataframe\">\n  <thead>\n    <tr style=\"text-align: right;\">\n      <th></th>\n      <th>SVR</th>\n      <th>target</th>\n      <th>RandomForest</th>\n      <th>NormalizedRandomForest</th>\n    </tr>\n  </thead>\n  <tbody>\n    <tr>\n      <th>0</th>\n      <td>-123482.446509</td>\n      <td>streamflow</td>\n      <td>-94240.089630</td>\n      <td>-95087.644191</td>\n    </tr>\n    <tr>\n      <th>1</th>\n      <td>-50242.874798</td>\n      <td>streamflow</td>\n      <td>-18509.350270</td>\n      <td>-18434.589592</td>\n    </tr>\n    <tr>\n      <th>2</th>\n      <td>-76314.411517</td>\n      <td>streamflow</td>\n      <td>-56275.677320</td>\n      <td>-55936.723376</td>\n    </tr>\n    <tr>\n      <th>3</th>\n      <td>-67203.543898</td>\n      <td>streamflow</td>\n      <td>-52154.755205</td>\n      <td>-51612.944528</td>\n    </tr>\n    <tr>\n      <th>4</th>\n      <td>-96751.841735</td>\n      <td>streamflow</td>\n      <td>-69579.171091</td>\n      <td>-70359.833510</td>\n    </tr>\n    <tr>\n      <th>0</th>\n      <td>-0.632483</td>\n      <td>level</td>\n      <td>-0.008483</td>\n      <td>-0.008495</td>\n    </tr>\n    <tr>\n      <th>1</th>\n      <td>-0.872190</td>\n      <td>level</td>\n      <td>-0.024166</td>\n      <td>-0.026024</td>\n    </tr>\n    <tr>\n      <th>2</th>\n      <td>-1.071584</td>\n      <td>level</td>\n      <td>-0.094294</td>\n      <td>-0.118986</td>\n    </tr>\n    <tr>\n      <th>3</th>\n      <td>-1.458218</td>\n      <td>level</td>\n      <td>-0.004673</td>\n      <td>-0.009080</td>\n    </tr>\n    <tr>\n      <th>4</th>\n      <td>-3.588278</td>\n      <td>level</td>\n      <td>-0.023362</td>\n      <td>-0.029020</td>\n    </tr>\n  </tbody>\n</table>\n</div>"
     },
     "metadata": {},
     "execution_count": 33
    }
   ],
   "source": [
    "result = pandas.DataFrame.from_dict(result_streamflow).append(pandas.DataFrame.from_dict(result_level))\n",
    "result.pivot(columns='target')"
   ]
  },
  {
   "cell_type": "code",
   "execution_count": null,
   "metadata": {},
   "outputs": [],
   "source": []
  }
 ],
 "metadata": {
  "kernelspec": {
   "name": "python3",
   "display_name": "Python 3.9.5  ('.env': venv)"
  },
  "language_info": {
   "codemirror_mode": {
    "name": "ipython",
    "version": 3
   },
   "file_extension": ".py",
   "mimetype": "text/x-python",
   "name": "python",
   "nbconvert_exporter": "python",
   "pygments_lexer": "ipython3",
   "version": "3.9.5"
  },
  "interpreter": {
   "hash": "e01c415138263b81e74f4b8560efc462ff3e43faa8a63c42675b82c8ccb72528"
  }
 },
 "nbformat": 4,
 "nbformat_minor": 4
}